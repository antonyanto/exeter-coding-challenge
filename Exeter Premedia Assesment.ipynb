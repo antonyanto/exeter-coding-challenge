{
 "cells": [
  {
   "cell_type": "markdown",
   "metadata": {},
   "source": [
    "## Python Libraries"
   ]
  },
  {
   "cell_type": "code",
   "execution_count": 1,
   "metadata": {},
   "outputs": [],
   "source": [
    "import sys\n",
    "import time\n",
    "import re\n",
    "import pandas as pd\n",
    "from itertools import compress"
   ]
  },
  {
   "cell_type": "markdown",
   "metadata": {},
   "source": [
    "## Reading CSV and Text Files"
   ]
  },
  {
   "cell_type": "code",
   "execution_count": 2,
   "metadata": {},
   "outputs": [],
   "source": [
    "words_data = pd.read_csv(\"G:/Programs/Exeter/french_dictionary.csv\", header=None)\n",
    "words_data.index = words_data[0]\n",
    "words_data.drop(labels=[0], axis=1, inplace=True)\n",
    "words_data.index.name = \"english\"\n",
    "words_data.columns = [\"french\"]"
   ]
  },
  {
   "cell_type": "code",
   "execution_count": 3,
   "metadata": {},
   "outputs": [],
   "source": [
    "find_words = []\n",
    "file = open(\"G:/Programs/Exeter/find_words.txt\")\n",
    "find_words = [\"\".join(lines.split()) for lines in file.readlines()]\n",
    "file.close()"
   ]
  },
  {
   "cell_type": "code",
   "execution_count": 4,
   "metadata": {},
   "outputs": [],
   "source": [
    "replace = []\n",
    "file = open(\"G:/Programs/Exeter/t8.shakespeare.txt\")\n",
    "replace = [\"\".join(lines.replace(\"\\n\", \"\")) for lines in file.readlines()]\n",
    "file.close()"
   ]
  },
  {
   "cell_type": "markdown",
   "metadata": {},
   "source": [
    "## Counting Find Words Before Translating"
   ]
  },
  {
   "cell_type": "code",
   "execution_count": 5,
   "metadata": {},
   "outputs": [],
   "source": [
    "words_count_before = {word:0 for word in find_words}\n",
    "freq_replace = {word:0 for word in find_words}"
   ]
  },
  {
   "cell_type": "code",
   "execution_count": 6,
   "metadata": {},
   "outputs": [],
   "source": [
    "for i in range(len(replace)):\n",
    "    splitted_words = replace[i].split()\n",
    "    status = [True if (i.lower() in find_words) else False for i in splitted_words]\n",
    "    idx = list(compress(range(len(status)), status))\n",
    "    if len(idx) > 0:\n",
    "        for j in idx:\n",
    "            words_count_before[splitted_words[j].lower()] = words_count_before.get(splitted_words[j].lower()) + 1\n",
    "    else:\n",
    "        pass"
   ]
  },
  {
   "cell_type": "markdown",
   "metadata": {},
   "source": [
    "## Translating from English to French"
   ]
  },
  {
   "cell_type": "code",
   "execution_count": 7,
   "metadata": {
    "scrolled": false
   },
   "outputs": [
    {
     "name": "stdout",
     "output_type": "stream",
     "text": [
      "Time Taken to Translate :  25.0 seconds.\n"
     ]
    }
   ],
   "source": [
    "start_time = time.time()\n",
    "\n",
    "for i in range(len(replace)):\n",
    "    splitted_words = replace[i].split()\n",
    "    status = [True if (i.lower() in find_words) else False for i in splitted_words]\n",
    "    idx = list(compress(range(len(status)), status))\n",
    "    if len(idx) > 0:\n",
    "        for j in idx:\n",
    "            freq_replace[splitted_words[j].lower()] = freq_replace.get(splitted_words[j].lower()) + 1\n",
    "            splitted_words[j] = words_data.loc[splitted_words[j].lower()].values[0]\n",
    "        replace[i] = \" \".join(splitted_words)\n",
    "    else:\n",
    "        pass\n",
    "\n",
    "end_time = time.time()\n",
    "print(\"Time Taken to Translate : \", round((end_time - start_time),0), \"seconds.\")"
   ]
  },
  {
   "cell_type": "markdown",
   "metadata": {},
   "source": [
    "## Objects Memory Size"
   ]
  },
  {
   "cell_type": "code",
   "execution_count": 8,
   "metadata": {
    "scrolled": false
   },
   "outputs": [
    {
     "name": "stdout",
     "output_type": "stream",
     "text": [
      "Size of Find Words :  9016 bytes. ( 0.009016 in MB)\n",
      "Size of English to French Dictionary :  165988 bytes. ( 0.165988 in MB)\n",
      "Size of Replacement Text :  1043552 bytes. ( 1.043552 in MB)\n",
      "Total Memory Size Required :  1.218556 MB\n"
     ]
    }
   ],
   "source": [
    "print(\"Size of Find Words : \", sys.getsizeof(find_words), \"bytes.\", \"(\", sys.getsizeof(find_words) / 1e+6, \"in MB)\")\n",
    "print(\"Size of English to French Dictionary : \", sys.getsizeof(words_data), \"bytes.\", \"(\", sys.getsizeof(words_data) / 1e+6, \"in MB)\")\n",
    "print(\"Size of Replacement Text : \", sys.getsizeof(replace), \"bytes.\", \"(\", sys.getsizeof(replace) / 1e+6, \"in MB)\")\n",
    "total_size = (sys.getsizeof(find_words) / 1e+6) + (sys.getsizeof(words_data) / 1e+6) + (sys.getsizeof(replace) / 1e+6)\n",
    "print(\"Total Memory Size Required : \", total_size, \"MB\")"
   ]
  },
  {
   "cell_type": "markdown",
   "metadata": {},
   "source": [
    "## Writing the Translated Script"
   ]
  },
  {
   "cell_type": "code",
   "execution_count": 9,
   "metadata": {},
   "outputs": [],
   "source": [
    "final = [replace[i] + \"\\n\" for i in range(len(replace))]"
   ]
  },
  {
   "cell_type": "code",
   "execution_count": 10,
   "metadata": {},
   "outputs": [],
   "source": [
    "file = open(\"G:/Programs/Exeter/translated_output.txt\", 'w')\n",
    "file.writelines(final)\n",
    "file.close()"
   ]
  },
  {
   "cell_type": "markdown",
   "metadata": {},
   "source": [
    "## Checking Whether All Words are Replaced"
   ]
  },
  {
   "cell_type": "code",
   "execution_count": 11,
   "metadata": {},
   "outputs": [],
   "source": [
    "status = []\n",
    "for i, j in zip(words_count_before.items(), freq_replace.items()):\n",
    "    if (i[1] - j[1]) != 0:\n",
    "        print(i[0], \"wasn't replaced completely.\")\n",
    "    else:\n",
    "        status.append(True)"
   ]
  },
  {
   "cell_type": "markdown",
   "metadata": {},
   "source": [
    "## Writing the Frequency of Words Replaced in CSV File"
   ]
  },
  {
   "cell_type": "code",
   "execution_count": 12,
   "metadata": {},
   "outputs": [],
   "source": [
    "final_res = pd.DataFrame(data=[freq_replace.keys()]).T\n",
    "final_res.columns = [\"English\"]"
   ]
  },
  {
   "cell_type": "code",
   "execution_count": 13,
   "metadata": {},
   "outputs": [],
   "source": [
    "final_df = pd.concat([final_res, words_data[\"french\"]], axis=1)"
   ]
  },
  {
   "cell_type": "code",
   "execution_count": 14,
   "metadata": {},
   "outputs": [],
   "source": [
    "french_words = words_data[\"french\"]\n",
    "french_words.index = range(1000)"
   ]
  },
  {
   "cell_type": "code",
   "execution_count": 15,
   "metadata": {},
   "outputs": [],
   "source": [
    "final_df = pd.concat([final_res, words_data[\"french\"]], axis=1)"
   ]
  },
  {
   "cell_type": "code",
   "execution_count": 16,
   "metadata": {},
   "outputs": [],
   "source": [
    "final_df = pd.concat([final_df, pd.Series(freq_replace.values(), index=range(1000))], axis=1)\n",
    "final_df.columns = [\"English\", \"French\", \"Frequency Replaced\"]"
   ]
  },
  {
   "cell_type": "code",
   "execution_count": 17,
   "metadata": {},
   "outputs": [],
   "source": [
    "final_df.to_csv(\"G:/Programs/Exeter/replaced_frequency.csv\", index=None)"
   ]
  }
 ],
 "metadata": {
  "kernelspec": {
   "display_name": "Python 3",
   "language": "python",
   "name": "python3"
  },
  "language_info": {
   "codemirror_mode": {
    "name": "ipython",
    "version": 3
   },
   "file_extension": ".py",
   "mimetype": "text/x-python",
   "name": "python",
   "nbconvert_exporter": "python",
   "pygments_lexer": "ipython3",
   "version": "3.8.5"
  }
 },
 "nbformat": 4,
 "nbformat_minor": 5
}
